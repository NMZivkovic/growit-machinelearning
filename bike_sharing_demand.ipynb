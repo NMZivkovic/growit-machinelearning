{
 "cells": [
  {
   "cell_type": "markdown",
   "metadata": {},
   "source": [
    "## Import Necessary Modules"
   ]
  },
  {
   "cell_type": "code",
   "execution_count": 1,
   "metadata": {},
   "outputs": [],
   "source": [
    "import numpy as np\n",
    "import pandas as pd\n",
    "from datetime import datetime\n",
    "import seaborn as sn\n",
    "import matplotlib.pyplot as plt"
   ]
  },
  {
   "cell_type": "markdown",
   "metadata": {},
   "source": [
    "## Import SciKit-Learn Classes"
   ]
  },
  {
   "cell_type": "code",
   "execution_count": 2,
   "metadata": {},
   "outputs": [],
   "source": [
    "from sklearn.model_selection import train_test_split\n",
    "from sklearn.linear_model import LogisticRegression\n",
    "from sklearn.tree import DecisionTreeRegressor\n",
    "from sklearn.ensemble import RandomForestRegressor\n",
    "from sklearn.metrics import mean_squared_error\n",
    "from sklearn.preprocessing import StandardScaler"
   ]
  },
  {
   "cell_type": "markdown",
   "metadata": {},
   "source": [
    "## Load and Prepare Data"
   ]
  },
  {
   "cell_type": "code",
   "execution_count": 3,
   "metadata": {},
   "outputs": [],
   "source": [
    "data = pd.read_csv('hour.csv', sep = ',')\n",
    "data[\"weekday\"] = data.dteday.apply(lambda dateString : datetime.strptime(dateString,\"%Y-%m-%d\").weekday())\n",
    "\n",
    "categoricalFeatureNames = [\"season\",\"holiday\",\"workingday\",\"weathersit\",\"weekday\",\"mnth\",\"yr\",\"hr\"]\n",
    "dropFeatures = [\"dteday\", \"casual\", \"registered\", \"cnt\", \"atemp\", \"instant\"]\n",
    "\n",
    "for var in categoricalFeatureNames:\n",
    "    data[var] = data[var].astype(\"category\")"
   ]
  },
  {
   "cell_type": "markdown",
   "metadata": {},
   "source": [
    "## Split Data Into Train and Test Sections"
   ]
  },
  {
   "cell_type": "code",
   "execution_count": 6,
   "metadata": {},
   "outputs": [],
   "source": [
    "output_data = data[\"cnt\"]\n",
    "input_data = data.drop(dropFeatures,axis=1)\n",
    "X_train, X_test, y_train, y_test = train_test_split(input_data, output_data, test_size=0.3, random_state=42)\n",
    "\n",
    "scl= StandardScaler()\n",
    "X_train_scaled = scl.fit_transform(X_train)\n",
    "X_test_scaled = scl.transform(X_test)"
   ]
  },
  {
   "cell_type": "markdown",
   "metadata": {},
   "source": [
    "## Logistic Regression"
   ]
  },
  {
   "cell_type": "code",
   "execution_count": 7,
   "metadata": {},
   "outputs": [
    {
     "name": "stdout",
     "output_type": "stream",
     "text": [
      "[276 126   5 ... 276 172   2]\n"
     ]
    }
   ],
   "source": [
    "lrModel = LogisticRegression()\n",
    "lrModel.fit(X = X_train_scaled, y = y_train)\n",
    "lrPredictions = lrModel.predict(X = X_test_scaled)\n",
    "print(lrPredictions)"
   ]
  },
  {
   "cell_type": "code",
   "execution_count": 8,
   "metadata": {
    "scrolled": true
   },
   "outputs": [
    {
     "name": "stdout",
     "output_type": "stream",
     "text": [
      "RMSLE: 1.747321\n"
     ]
    }
   ],
   "source": [
    "print('RMSLE: %.6f' % np.sqrt(mean_squared_error(np.log(y_test + 1), np.log(lrPredictions + 1))))"
   ]
  },
  {
   "cell_type": "markdown",
   "metadata": {},
   "source": [
    "## Decision Tree"
   ]
  },
  {
   "cell_type": "code",
   "execution_count": 9,
   "metadata": {},
   "outputs": [
    {
     "name": "stdout",
     "output_type": "stream",
     "text": [
      "[287. 103.  18. ... 585. 268.  76.]\n"
     ]
    }
   ],
   "source": [
    "dtModel = DecisionTreeRegressor()\n",
    "dtModel.fit(X = X_train_scaled, y = y_train)\n",
    "dtPredictions = dtModel.predict(X = X_test_scaled)\n",
    "print(dtPredictions)"
   ]
  },
  {
   "cell_type": "code",
   "execution_count": 10,
   "metadata": {},
   "outputs": [
    {
     "name": "stdout",
     "output_type": "stream",
     "text": [
      "RMSLE: 0.452746\n"
     ]
    }
   ],
   "source": [
    "print('RMSLE: %.6f' % np.sqrt(mean_squared_error(np.log(y_test + 1), np.log(dtPredictions + 1))))"
   ]
  },
  {
   "cell_type": "markdown",
   "metadata": {},
   "source": [
    "## Random Forest"
   ]
  },
  {
   "cell_type": "code",
   "execution_count": 11,
   "metadata": {},
   "outputs": [
    {
     "name": "stdout",
     "output_type": "stream",
     "text": [
      "[363.24  103.024  12.36  ... 559.674 278.126  74.828]\n"
     ]
    }
   ],
   "source": [
    "rfModel = RandomForestRegressor(n_estimators=500)\n",
    "rfModel.fit(X = X_train_scaled, y = y_train)\n",
    "predictions = rfModel.predict(X = X_test_scaled)\n",
    "print(predictions)"
   ]
  },
  {
   "cell_type": "code",
   "execution_count": 12,
   "metadata": {},
   "outputs": [
    {
     "name": "stdout",
     "output_type": "stream",
     "text": [
      "RMSLE: 0.354103\n"
     ]
    }
   ],
   "source": [
    "print('RMSLE: %.6f' % np.sqrt(mean_squared_error(np.log(y_test + 1), np.log(predictions + 1))))"
   ]
  },
  {
   "cell_type": "markdown",
   "metadata": {},
   "source": [
    "## Improvement Analasys"
   ]
  },
  {
   "cell_type": "code",
   "execution_count": 13,
   "metadata": {},
   "outputs": [
    {
     "data": {
      "text/plain": [
       "<matplotlib.axes._subplots.AxesSubplot at 0xb5b7750828>"
      ]
     },
     "execution_count": 13,
     "metadata": {},
     "output_type": "execute_result"
    },
    {
     "data": {
      "image/png": "[encoded data removed]",
      "text/plain": [
       "<Figure size 1440x360 with 1 Axes>"
      ]
     },
     "metadata": {},
     "output_type": "display_data"
    }
   ],
   "source": [
    "features = pd.DataFrame()\n",
    "features['features'] = X_train.columns\n",
    "features['coefficient'] = rfModel.feature_importances_\n",
    "features.sort_values(by=['coefficient'],ascending=False,inplace=True)\n",
    "fig,ax= plt.subplots()\n",
    "fig.set_size_inches(20,5)\n",
    "sn.barplot(data=features,x=\"features\",y=\"coefficient\",ax=ax)"
   ]
  }
 ],
 "metadata": {
  "kernelspec": {
   "display_name": "Python 3",
   "language": "python",
   "name": "python3"
  },
  "language_info": {
   "codemirror_mode": {
    "name": "ipython",
    "version": 3
   },
   "file_extension": ".py",
   "mimetype": "text/x-python",
   "name": "python",
   "nbconvert_exporter": "python",
   "pygments_lexer": "ipython3",
   "version": "3.6.5"
  }
 },
 "nbformat": 4,
 "nbformat_minor": 2
}
